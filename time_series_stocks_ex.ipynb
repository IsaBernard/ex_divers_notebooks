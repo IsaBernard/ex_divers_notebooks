{
 "cells": [
  {
   "cell_type": "code",
   "execution_count": null,
   "metadata": {},
   "outputs": [],
   "source": [
    "import numpy as np\n",
    "import pandas as pd"
   ]
  },
  {
   "cell_type": "code",
   "execution_count": null,
   "metadata": {},
   "outputs": [],
   "source": [
    "my_dates = pd.date_range(start='2017-01-01', periods = 350, freq='45min')\n",
    "df = pd.DataFrame(index=my_dates)\n",
    "df.index.name = 'time'\n",
    "df['stock_name'] = ['ABC', 'XYZ'] * int(350/2)\n",
    "df['price'] = (np.random.rand(350) * 350).round(2)\n",
    "df.head(10)"
   ]
  },
  {
   "cell_type": "code",
   "execution_count": 12,
   "metadata": {},
   "outputs": [
    {
     "name": "stdout",
     "output_type": "stream",
     "text": [
      "<class 'pandas.core.frame.DataFrame'>\n",
      "DatetimeIndex: 350 entries, 2017-01-01 00:00:00 to 2017-01-11 21:45:00\n",
      "Freq: 45T\n",
      "Data columns (total 2 columns):\n",
      "stock_name    350 non-null object\n",
      "price         350 non-null float64\n",
      "dtypes: float64(1), object(1)\n",
      "memory usage: 8.2+ KB\n"
     ]
    }
   ],
   "source": [
    "df.info()"
   ]
  },
  {
   "cell_type": "code",
   "execution_count": 13,
   "metadata": {},
   "outputs": [
    {
     "data": {
      "text/html": [
       "<div>\n",
       "<style scoped>\n",
       "    .dataframe tbody tr th:only-of-type {\n",
       "        vertical-align: middle;\n",
       "    }\n",
       "\n",
       "    .dataframe tbody tr th {\n",
       "        vertical-align: top;\n",
       "    }\n",
       "\n",
       "    .dataframe thead th {\n",
       "        text-align: right;\n",
       "    }\n",
       "</style>\n",
       "<table border=\"1\" class=\"dataframe\">\n",
       "  <thead>\n",
       "    <tr style=\"text-align: right;\">\n",
       "      <th></th>\n",
       "      <th>open</th>\n",
       "      <th>high</th>\n",
       "      <th>low</th>\n",
       "      <th>close</th>\n",
       "    </tr>\n",
       "    <tr>\n",
       "      <th>time</th>\n",
       "      <th></th>\n",
       "      <th></th>\n",
       "      <th></th>\n",
       "      <th></th>\n",
       "    </tr>\n",
       "  </thead>\n",
       "  <tbody>\n",
       "    <tr>\n",
       "      <th>2017-01-01 00:00:00</th>\n",
       "      <td>47.06</td>\n",
       "      <td>220.87</td>\n",
       "      <td>47.06</td>\n",
       "      <td>220.87</td>\n",
       "    </tr>\n",
       "    <tr>\n",
       "      <th>2017-01-01 01:00:00</th>\n",
       "      <td>17.39</td>\n",
       "      <td>17.39</td>\n",
       "      <td>17.39</td>\n",
       "      <td>17.39</td>\n",
       "    </tr>\n",
       "    <tr>\n",
       "      <th>2017-01-01 02:00:00</th>\n",
       "      <td>124.52</td>\n",
       "      <td>124.52</td>\n",
       "      <td>124.52</td>\n",
       "      <td>124.52</td>\n",
       "    </tr>\n",
       "    <tr>\n",
       "      <th>2017-01-01 03:00:00</th>\n",
       "      <td>120.21</td>\n",
       "      <td>120.21</td>\n",
       "      <td>61.82</td>\n",
       "      <td>61.82</td>\n",
       "    </tr>\n",
       "    <tr>\n",
       "      <th>2017-01-01 04:00:00</th>\n",
       "      <td>283.81</td>\n",
       "      <td>283.81</td>\n",
       "      <td>283.81</td>\n",
       "      <td>283.81</td>\n",
       "    </tr>\n",
       "  </tbody>\n",
       "</table>\n",
       "</div>"
      ],
      "text/plain": [
       "                       open    high     low   close\n",
       "time                                               \n",
       "2017-01-01 00:00:00   47.06  220.87   47.06  220.87\n",
       "2017-01-01 01:00:00   17.39   17.39   17.39   17.39\n",
       "2017-01-01 02:00:00  124.52  124.52  124.52  124.52\n",
       "2017-01-01 03:00:00  120.21  120.21   61.82   61.82\n",
       "2017-01-01 04:00:00  283.81  283.81  283.81  283.81"
      ]
     },
     "execution_count": 13,
     "metadata": {},
     "output_type": "execute_result"
    }
   ],
   "source": [
    "by_hour = df['price'].resample('H').ohlc()\n",
    "by_hour.head()"
   ]
  },
  {
   "cell_type": "code",
   "execution_count": null,
   "metadata": {},
   "outputs": [],
   "source": []
  }
 ],
 "metadata": {
  "kernelspec": {
   "display_name": "Python 3",
   "language": "python",
   "name": "python3"
  },
  "language_info": {
   "codemirror_mode": {
    "name": "ipython",
    "version": 3
   },
   "file_extension": ".py",
   "mimetype": "text/x-python",
   "name": "python",
   "nbconvert_exporter": "python",
   "pygments_lexer": "ipython3",
   "version": "3.7.3"
  }
 },
 "nbformat": 4,
 "nbformat_minor": 4
}
